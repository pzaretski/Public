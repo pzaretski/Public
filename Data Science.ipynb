{
    "cells": [
        {
            "cell_type": "markdown",
            "metadata": {},
            "source": "# My Jupyter Notebook on IBM Watson Studio"
        },
        {
            "cell_type": "markdown",
            "metadata": {},
            "source": "**Pavel Zaretski** <br>\nDesired occupation: Data Scientist"
        },
        {
            "cell_type": "markdown",
            "metadata": {},
            "source": "*I am interested in Data Science because I see a huge practical potential in owning and using Big Data and DL for insights and predictions. As they say, knowledge is power. But most importantly - it's freaking interesting!*"
        },
        {
            "cell_type": "markdown",
            "metadata": {},
            "source": "### Below is an example of an elementary sum operation"
        },
        {
            "cell_type": "code",
            "execution_count": 2,
            "metadata": {},
            "outputs": [
                {
                    "data": {
                        "text/plain": "2"
                    },
                    "execution_count": 2,
                    "metadata": {},
                    "output_type": "execute_result"
                }
            ],
            "source": "1+1"
        },
        {
            "cell_type": "markdown",
            "metadata": {},
            "source": "1. Veni\n2. Vidi\n3. Vici\n\n|Hero name|Class|\n|-|-|\n|Legion|carry|\n|Templar|carry|\n|Crystal Maiden|support|\n\n![**Tira**](https://external-preview.redd.it/vAtRbfUbrtrHoI_x472MqCY-SUrB6zWIukY47HFuBE8.jpg?auto=webp&s=0d69252560caa818882e76a174b8a7441448828a)"
        },
        {
            "cell_type": "code",
            "execution_count": null,
            "metadata": {},
            "outputs": [],
            "source": ""
        }
    ],
    "metadata": {
        "kernelspec": {
            "display_name": "Python 3.10",
            "language": "python",
            "name": "python3"
        },
        "language_info": {
            "codemirror_mode": {
                "name": "ipython",
                "version": 3
            },
            "file_extension": ".py",
            "mimetype": "text/x-python",
            "name": "python",
            "nbconvert_exporter": "python",
            "pygments_lexer": "ipython3",
            "version": "3.10.9"
        }
    },
    "nbformat": 4,
    "nbformat_minor": 1
}